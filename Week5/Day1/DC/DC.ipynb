{
 "cells": [
  {
   "cell_type": "code",
   "execution_count": 1,
   "id": "89ccb4be",
   "metadata": {},
   "outputs": [],
   "source": [
    "import numpy as np\n"
   ]
  },
  {
   "cell_type": "code",
   "execution_count": 3,
   "id": "e22498ef",
   "metadata": {},
   "outputs": [
    {
     "data": {
      "text/plain": [
       "array([[20, 25, 33, 35, 11],\n",
       "       [44, 78, 80, 10, 73],\n",
       "       [14, 13, 58, 83, 88],\n",
       "       [86, 10, 22, 12, 78],\n",
       "       [16, 80, 59, 92, 22]])"
      ]
     },
     "execution_count": 3,
     "metadata": {},
     "output_type": "execute_result"
    }
   ],
   "source": [
    "data = np.array(np.random.randint(1, 100, size=25)).reshape(5,5)\n",
    "data"
   ]
  },
  {
   "cell_type": "code",
   "execution_count": 10,
   "id": "62564e08",
   "metadata": {},
   "outputs": [
    {
     "data": {
      "text/plain": [
       "array([[20, 25, 33, 35, 11],\n",
       "       [20, 25, 33, 35, 11],\n",
       "       [14, 13, 58, 83, 88],\n",
       "       [20, 25, 33, 35, 11],\n",
       "       [16, 80, 59, 92, 22]])"
      ]
     },
     "execution_count": 10,
     "metadata": {},
     "output_type": "execute_result"
    }
   ],
   "source": [
    "data[1], data[3] = data[3], data[1]\n",
    "\n",
    "data"
   ]
  },
  {
   "cell_type": "code",
   "execution_count": 11,
   "id": "4866fb8e",
   "metadata": {},
   "outputs": [
    {
     "data": {
      "text/plain": [
       "array([[0.11111111, 0.17283951, 0.27160494, 0.2962963 , 0.        ],\n",
       "       [0.11111111, 0.17283951, 0.27160494, 0.2962963 , 0.        ],\n",
       "       [0.03703704, 0.02469136, 0.58024691, 0.88888889, 0.95061728],\n",
       "       [0.11111111, 0.17283951, 0.27160494, 0.2962963 , 0.        ],\n",
       "       [0.0617284 , 0.85185185, 0.59259259, 1.        , 0.13580247]])"
      ]
     },
     "execution_count": 11,
     "metadata": {},
     "output_type": "execute_result"
    }
   ],
   "source": [
    "min_val = np.min(data)\n",
    "max_val = np.max(data)\n",
    "normalized_d = (data - min_val) / (max_val - min_val)\n",
    "normalized_d"
   ]
  },
  {
   "cell_type": "code",
   "execution_count": 12,
   "id": "57be7553",
   "metadata": {},
   "outputs": [
    {
     "data": {
      "text/plain": [
       "array([[-0.63484175, -0.43495455, -0.11513503, -0.03518015, -0.9946387 ],\n",
       "       [-0.63484175, -0.43495455, -0.11513503, -0.03518015, -0.9946387 ],\n",
       "       [-0.87470639, -0.91468382,  0.88430097,  1.88373697,  2.08362417],\n",
       "       [-0.63484175, -0.43495455, -0.11513503, -0.03518015, -0.9946387 ],\n",
       "       [-0.79475151,  1.76380465,  0.92427841,  2.24353393, -0.55488687]])"
      ]
     },
     "execution_count": 12,
     "metadata": {},
     "output_type": "execute_result"
    }
   ],
   "source": [
    "mean_val = np.mean(data)\n",
    "std_val = np.std(data)\n",
    "z_score_d = (data - mean_val) / std_val\n",
    "z_score_d"
   ]
  },
  {
   "cell_type": "code",
   "execution_count": 13,
   "id": "4b0c026b",
   "metadata": {},
   "outputs": [
    {
     "data": {
      "text/plain": [
       "array([20, 25, 33, 35, 11, 20, 25, 33, 35, 11, 14, 13, 58, 83, 88, 20, 25,\n",
       "       33, 35, 11, 16, 80, 59, 92, 22])"
      ]
     },
     "execution_count": 13,
     "metadata": {},
     "output_type": "execute_result"
    }
   ],
   "source": [
    "vect_d = np.ravel(data)\n",
    "vect_d\n"
   ]
  },
  {
   "cell_type": "code",
   "execution_count": 15,
   "id": "3194394b",
   "metadata": {},
   "outputs": [
    {
     "data": {
      "text/plain": [
       "[array([20, 25, 33, 35, 11]),\n",
       " array([20, 25, 33, 35, 11]),\n",
       " array([14, 13, 58, 83, 88]),\n",
       " array([20, 25, 33, 35, 11]),\n",
       " array([16, 80, 59, 92, 22])]"
      ]
     },
     "execution_count": 15,
     "metadata": {},
     "output_type": "execute_result"
    }
   ],
   "source": [
    "sub_a = np.array_split(vect_d, 5)\n",
    "sub_a"
   ]
  },
  {
   "cell_type": "code",
   "execution_count": 17,
   "id": "10306fd2",
   "metadata": {},
   "outputs": [
    {
     "data": {
      "text/plain": [
       "198"
      ]
     },
     "execution_count": 17,
     "metadata": {},
     "output_type": "execute_result"
    }
   ],
   "source": [
    "vector1 = np.array([3, 5, 6, 7, 8])\n",
    "vector2 = np.array([2, 4, 6, 8, 10])\n",
    "\n",
    "dot_product = np.dot(vector1, vector2)\n",
    "dot_product"
   ]
  },
  {
   "cell_type": "code",
   "execution_count": 18,
   "id": "14e7c18f",
   "metadata": {},
   "outputs": [
    {
     "data": {
      "text/plain": [
       "array([[ 6425,  9244,  1285],\n",
       "       [ 8868, 12406,  5541],\n",
       "       [ 8257,  8919,  3215]])"
      ]
     },
     "execution_count": 18,
     "metadata": {},
     "output_type": "execute_result"
    }
   ],
   "source": [
    "data = np.array(np.random.randint(1, 100, size=9)).reshape(3, 3)\n",
    "\n",
    "data2 = np.array(np.random.randint(1, 100, size=9)).reshape(3, 3)\n",
    "\n",
    "result = np.dot(data, data2)\n",
    "result"
   ]
  },
  {
   "cell_type": "code",
   "execution_count": 20,
   "id": "f3c7bb69",
   "metadata": {},
   "outputs": [
    {
     "data": {
      "text/plain": [
       "array([[2., 0., 0.],\n",
       "       [0., 2., 0.],\n",
       "       [0., 0., 2.]])"
      ]
     },
     "execution_count": 20,
     "metadata": {},
     "output_type": "execute_result"
    }
   ],
   "source": [
    "identity_matrix = 2 * np.identity(3)\n",
    "identity_matrix\n"
   ]
  },
  {
   "cell_type": "code",
   "execution_count": 21,
   "id": "859dddc1",
   "metadata": {},
   "outputs": [
    {
     "data": {
      "text/plain": [
       "array([[0.5, 0. , 0. ],\n",
       "       [0. , 0.5, 0. ],\n",
       "       [0. , 0. , 0.5]])"
      ]
     },
     "execution_count": 21,
     "metadata": {},
     "output_type": "execute_result"
    }
   ],
   "source": [
    "inverse_matrix = np.linalg.inv(identity_matrix)\n",
    "inverse_matrix"
   ]
  },
  {
   "cell_type": "code",
   "execution_count": 23,
   "id": "73eca200",
   "metadata": {},
   "outputs": [
    {
     "data": {
      "text/plain": [
       "array([[ 0.53089451+0.j        ,  0.50221785-0.27761141j,\n",
       "         0.50221785+0.27761141j],\n",
       "       [ 0.59228511+0.j        , -0.75764204+0.j        ,\n",
       "        -0.75764204-0.j        ],\n",
       "       [ 0.60609353+0.j        , -0.11592746+0.28852816j,\n",
       "        -0.11592746-0.28852816j]])"
      ]
     },
     "execution_count": 23,
     "metadata": {},
     "output_type": "execute_result"
    }
   ],
   "source": [
    "eigenvalues, eigenvectors = np.linalg.eig(data)\n",
    "eigenvalues\n",
    "eigenvectors"
   ]
  },
  {
   "cell_type": "code",
   "execution_count": 26,
   "id": "9d102425",
   "metadata": {},
   "outputs": [
    {
     "ename": "ValueError",
     "evalue": "cannot convert float NaN to integer",
     "output_type": "error",
     "traceback": [
      "\u001b[0;31m---------------------------------------------------------------------------\u001b[0m",
      "\u001b[0;31mValueError\u001b[0m                                Traceback (most recent call last)",
      "Cell \u001b[0;32mIn[26], line 5\u001b[0m\n\u001b[1;32m      2\u001b[0m row_indices \u001b[38;5;241m=\u001b[39m random_indices\n\u001b[1;32m      3\u001b[0m column_indices \u001b[38;5;241m=\u001b[39m np\u001b[38;5;241m.\u001b[39mrandom\u001b[38;5;241m.\u001b[39mchoice(\u001b[38;5;28mrange\u001b[39m(\u001b[38;5;241m5\u001b[39m), size\u001b[38;5;241m=\u001b[39m\u001b[38;5;241m5\u001b[39m, replace\u001b[38;5;241m=\u001b[39m\u001b[38;5;28;01mFalse\u001b[39;00m)\n\u001b[0;32m----> 5\u001b[0m data[row_indices, column_indices] \u001b[38;5;241m=\u001b[39m np\u001b[38;5;241m.\u001b[39mnan\n\u001b[1;32m      7\u001b[0m data\n",
      "\u001b[0;31mValueError\u001b[0m: cannot convert float NaN to integer"
     ]
    }
   ],
   "source": []
  },
  {
   "cell_type": "code",
   "execution_count": null,
   "id": "ca67bda0",
   "metadata": {},
   "outputs": [],
   "source": []
  }
 ],
 "metadata": {
  "kernelspec": {
   "display_name": "Python 3 (ipykernel)",
   "language": "python",
   "name": "python3"
  },
  "language_info": {
   "codemirror_mode": {
    "name": "ipython",
    "version": 3
   },
   "file_extension": ".py",
   "mimetype": "text/x-python",
   "name": "python",
   "nbconvert_exporter": "python",
   "pygments_lexer": "ipython3",
   "version": "3.11.5"
  }
 },
 "nbformat": 4,
 "nbformat_minor": 5
}

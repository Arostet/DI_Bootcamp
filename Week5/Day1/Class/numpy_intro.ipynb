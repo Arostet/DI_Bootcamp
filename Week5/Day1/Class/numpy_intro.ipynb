{
 "cells": [
  {
   "cell_type": "code",
   "execution_count": 1,
   "id": "6db549aa",
   "metadata": {},
   "outputs": [],
   "source": [
    "import numpy as np"
   ]
  },
  {
   "cell_type": "markdown",
   "id": "448e7fb6",
   "metadata": {},
   "source": [
    "numpy into"
   ]
  },
  {
   "cell_type": "code",
   "execution_count": 2,
   "id": "279e04d3",
   "metadata": {},
   "outputs": [],
   "source": [
    "my_list = [x*10 for x in range(1,11)]"
   ]
  },
  {
   "cell_type": "code",
   "execution_count": null,
   "id": "a78dd793",
   "metadata": {},
   "outputs": [],
   "source": []
  },
  {
   "cell_type": "code",
   "execution_count": 3,
   "id": "374827fe",
   "metadata": {},
   "outputs": [
    {
     "data": {
      "text/plain": [
       "[10, 20, 30, 40, 50, 60, 70, 80, 90, 100]"
      ]
     },
     "execution_count": 3,
     "metadata": {},
     "output_type": "execute_result"
    }
   ],
   "source": [
    "my_list"
   ]
  },
  {
   "cell_type": "code",
   "execution_count": 7,
   "id": "5de9de64",
   "metadata": {},
   "outputs": [],
   "source": [
    "my_list = np.array(my_list)"
   ]
  },
  {
   "cell_type": "code",
   "execution_count": 8,
   "id": "e3972b6f",
   "metadata": {},
   "outputs": [
    {
     "name": "stdout",
     "output_type": "stream",
     "text": [
      "ndim: 1\n"
     ]
    }
   ],
   "source": [
    "print(f\"ndim: {my_list.ndim}\")"
   ]
  },
  {
   "cell_type": "code",
   "execution_count": 15,
   "id": "bc2c9310",
   "metadata": {},
   "outputs": [],
   "source": [
    "my_a = np.arange(10,101, 10).reshape(5,2)"
   ]
  },
  {
   "cell_type": "code",
   "execution_count": 16,
   "id": "a98ac959",
   "metadata": {},
   "outputs": [
    {
     "data": {
      "text/plain": [
       "array([[ 10,  20],\n",
       "       [ 30,  40],\n",
       "       [ 50,  60],\n",
       "       [ 70,  80],\n",
       "       [ 90, 100]])"
      ]
     },
     "execution_count": 16,
     "metadata": {},
     "output_type": "execute_result"
    }
   ],
   "source": [
    "my_a"
   ]
  },
  {
   "cell_type": "code",
   "execution_count": 17,
   "id": "0e6be198",
   "metadata": {},
   "outputs": [],
   "source": [
    "my_lin_array = np.linspace(10,100,10).reshape(5,2)"
   ]
  },
  {
   "cell_type": "code",
   "execution_count": 18,
   "id": "1ad4d313",
   "metadata": {},
   "outputs": [
    {
     "data": {
      "text/plain": [
       "array([[ 10.,  20.],\n",
       "       [ 30.,  40.],\n",
       "       [ 50.,  60.],\n",
       "       [ 70.,  80.],\n",
       "       [ 90., 100.]])"
      ]
     },
     "execution_count": 18,
     "metadata": {},
     "output_type": "execute_result"
    }
   ],
   "source": [
    "my_lin_array"
   ]
  },
  {
   "cell_type": "markdown",
   "id": "262ea2e7",
   "metadata": {},
   "source": [
    "\n",
    "* prices = np.array([5.99, 6.99, 22.49, 99.99, 4.99, 49.99])\n",
    "* Before we do that,\n",
    "\n",
    "*Add a 5 dollar shipping fee to each price. Call this array total.\n",
    "\n",
    "* Once we have that, we want to use the random_array created in assignment 2 and apply them to the 6 prices.\n",
    "\n",
    "* Grab the first 6 numbers from random_array, reshape it to one dimension. Call this discount_pct.\n",
    "* Subtract discount_pct FROM 1, store this in pct_owed.\n",
    "* Multiply pct_owed by total to get the final amount owed."
   ]
  },
  {
   "cell_type": "code",
   "execution_count": 21,
   "id": "9a53a953",
   "metadata": {},
   "outputs": [],
   "source": [
    "prices = np.array([5.99, 6.99, 22.49, 99.99, 4.99, 49.99])"
   ]
  },
  {
   "cell_type": "code",
   "execution_count": 27,
   "id": "130441d2",
   "metadata": {},
   "outputs": [],
   "source": [
    "array_total = prices + 5"
   ]
  },
  {
   "cell_type": "code",
   "execution_count": 28,
   "id": "386d1a96",
   "metadata": {},
   "outputs": [
    {
     "data": {
      "text/plain": [
       "array([ 10.99,  11.99,  27.49, 104.99,   9.99,  54.99])"
      ]
     },
     "execution_count": 28,
     "metadata": {},
     "output_type": "execute_result"
    }
   ],
   "source": [
    "array_total"
   ]
  },
  {
   "cell_type": "code",
   "execution_count": null,
   "id": "6b5e9bd8",
   "metadata": {},
   "outputs": [],
   "source": []
  }
 ],
 "metadata": {
  "kernelspec": {
   "display_name": "Python 3 (ipykernel)",
   "language": "python",
   "name": "python3"
  },
  "language_info": {
   "codemirror_mode": {
    "name": "ipython",
    "version": 3
   },
   "file_extension": ".py",
   "mimetype": "text/x-python",
   "name": "python",
   "nbconvert_exporter": "python",
   "pygments_lexer": "ipython3",
   "version": "3.11.5"
  }
 },
 "nbformat": 4,
 "nbformat_minor": 5
}

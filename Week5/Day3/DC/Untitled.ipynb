{
 "cells": [
  {
   "cell_type": "code",
   "execution_count": 1,
   "id": "a0b8a36b-2b2f-4209-a390-21ff593b2bdc",
   "metadata": {
    "tags": []
   },
   "outputs": [],
   "source": [
    "import numpy as np"
   ]
  },
  {
   "cell_type": "code",
   "execution_count": 2,
   "id": "57b74c80-b850-4758-a656-1caa770ca006",
   "metadata": {
    "tags": []
   },
   "outputs": [],
   "source": [
    "import pandas as pd"
   ]
  },
  {
   "cell_type": "code",
   "execution_count": 3,
   "id": "6460e51d-8af5-482a-bc3d-a10ccb6c0107",
   "metadata": {
    "tags": []
   },
   "outputs": [],
   "source": [
    "import matplotlib.pyplot as plt"
   ]
  },
  {
   "cell_type": "code",
   "execution_count": 6,
   "id": "53498f47-d09b-42e5-8238-527114ef5b12",
   "metadata": {
    "tags": []
   },
   "outputs": [
    {
     "data": {
      "text/plain": [
       "array([ 0.        ,  0.2020202 ,  0.4040404 ,  0.60606061,  0.80808081,\n",
       "        1.01010101,  1.21212121,  1.41414141,  1.61616162,  1.81818182,\n",
       "        2.02020202,  2.22222222,  2.42424242,  2.62626263,  2.82828283,\n",
       "        3.03030303,  3.23232323,  3.43434343,  3.63636364,  3.83838384,\n",
       "        4.04040404,  4.24242424,  4.44444444,  4.64646465,  4.84848485,\n",
       "        5.05050505,  5.25252525,  5.45454545,  5.65656566,  5.85858586,\n",
       "        6.06060606,  6.26262626,  6.46464646,  6.66666667,  6.86868687,\n",
       "        7.07070707,  7.27272727,  7.47474747,  7.67676768,  7.87878788,\n",
       "        8.08080808,  8.28282828,  8.48484848,  8.68686869,  8.88888889,\n",
       "        9.09090909,  9.29292929,  9.49494949,  9.6969697 ,  9.8989899 ,\n",
       "       10.1010101 , 10.3030303 , 10.50505051, 10.70707071, 10.90909091,\n",
       "       11.11111111, 11.31313131, 11.51515152, 11.71717172, 11.91919192,\n",
       "       12.12121212, 12.32323232, 12.52525253, 12.72727273, 12.92929293,\n",
       "       13.13131313, 13.33333333, 13.53535354, 13.73737374, 13.93939394,\n",
       "       14.14141414, 14.34343434, 14.54545455, 14.74747475, 14.94949495,\n",
       "       15.15151515, 15.35353535, 15.55555556, 15.75757576, 15.95959596,\n",
       "       16.16161616, 16.36363636, 16.56565657, 16.76767677, 16.96969697,\n",
       "       17.17171717, 17.37373737, 17.57575758, 17.77777778, 17.97979798,\n",
       "       18.18181818, 18.38383838, 18.58585859, 18.78787879, 18.98989899,\n",
       "       19.19191919, 19.39393939, 19.5959596 , 19.7979798 , 20.        ])"
      ]
     },
     "execution_count": 6,
     "metadata": {},
     "output_type": "execute_result"
    }
   ],
   "source": [
    "x = np.linspace(0,20,100)\n",
    "x"
   ]
  },
  {
   "cell_type": "code",
   "execution_count": 7,
   "id": "eacc0445-682f-41ee-9cb9-00a31a5ffaa3",
   "metadata": {
    "tags": []
   },
   "outputs": [
    {
     "data": {
      "text/plain": [
       "array([0.00000000e+00, 4.08121620e-02, 1.63248648e-01, 3.67309458e-01,\n",
       "       6.52994592e-01, 1.02030405e+00, 1.46923783e+00, 1.99979594e+00,\n",
       "       2.61197837e+00, 3.30578512e+00, 4.08121620e+00, 4.93827160e+00,\n",
       "       5.87695133e+00, 6.89725538e+00, 7.99918376e+00, 9.18273646e+00,\n",
       "       1.04479135e+01, 1.17947148e+01, 1.32231405e+01, 1.47331905e+01,\n",
       "       1.63248648e+01, 1.79981635e+01, 1.97530864e+01, 2.15896337e+01,\n",
       "       2.35078053e+01, 2.55076013e+01, 2.75890215e+01, 2.97520661e+01,\n",
       "       3.19967350e+01, 3.43230283e+01, 3.67309458e+01, 3.92204877e+01,\n",
       "       4.17916539e+01, 4.44444444e+01, 4.71788593e+01, 4.99948985e+01,\n",
       "       5.28925620e+01, 5.58718498e+01, 5.89327620e+01, 6.20752984e+01,\n",
       "       6.52994592e+01, 6.86052444e+01, 7.19926538e+01, 7.54616876e+01,\n",
       "       7.90123457e+01, 8.26446281e+01, 8.63585348e+01, 9.01540659e+01,\n",
       "       9.40312213e+01, 9.79900010e+01, 1.02030405e+02, 1.06152433e+02,\n",
       "       1.10356086e+02, 1.14641363e+02, 1.19008264e+02, 1.23456790e+02,\n",
       "       1.27986940e+02, 1.32598714e+02, 1.37292113e+02, 1.42067136e+02,\n",
       "       1.46923783e+02, 1.51862055e+02, 1.56881951e+02, 1.61983471e+02,\n",
       "       1.67166616e+02, 1.72431385e+02, 1.77777778e+02, 1.83205795e+02,\n",
       "       1.88715437e+02, 1.94306703e+02, 1.99979594e+02, 2.05734109e+02,\n",
       "       2.11570248e+02, 2.17488011e+02, 2.23487399e+02, 2.29568411e+02,\n",
       "       2.35731048e+02, 2.41975309e+02, 2.48301194e+02, 2.54708703e+02,\n",
       "       2.61197837e+02, 2.67768595e+02, 2.74420977e+02, 2.81154984e+02,\n",
       "       2.87970615e+02, 2.94867871e+02, 3.01846750e+02, 3.08907254e+02,\n",
       "       3.16049383e+02, 3.23273135e+02, 3.30578512e+02, 3.37965514e+02,\n",
       "       3.45434139e+02, 3.52984389e+02, 3.60616264e+02, 3.68329762e+02,\n",
       "       3.76124885e+02, 3.84001632e+02, 3.91960004e+02, 4.00000000e+02])"
      ]
     },
     "execution_count": 7,
     "metadata": {},
     "output_type": "execute_result"
    }
   ],
   "source": [
    "y = x**2\n",
    "y"
   ]
  },
  {
   "cell_type": "code",
   "execution_count": 12,
   "id": "0a0742b9-861b-4347-87a0-23c502dad519",
   "metadata": {
    "tags": []
   },
   "outputs": [],
   "source": [
    "data = {\n",
    "    \"number\" : x,\n",
    "    \"numsquared\" : y\n",
    "}"
   ]
  },
  {
   "cell_type": "code",
   "execution_count": 13,
   "id": "80eca2a0-3a4e-48d9-8a22-f752f50b7595",
   "metadata": {
    "tags": []
   },
   "outputs": [
    {
     "data": {
      "text/html": [
       "<div>\n",
       "<style scoped>\n",
       "    .dataframe tbody tr th:only-of-type {\n",
       "        vertical-align: middle;\n",
       "    }\n",
       "\n",
       "    .dataframe tbody tr th {\n",
       "        vertical-align: top;\n",
       "    }\n",
       "\n",
       "    .dataframe thead th {\n",
       "        text-align: right;\n",
       "    }\n",
       "</style>\n",
       "<table border=\"1\" class=\"dataframe\">\n",
       "  <thead>\n",
       "    <tr style=\"text-align: right;\">\n",
       "      <th></th>\n",
       "      <th>number</th>\n",
       "      <th>numsquared</th>\n",
       "    </tr>\n",
       "  </thead>\n",
       "  <tbody>\n",
       "    <tr>\n",
       "      <th>0</th>\n",
       "      <td>0.000000</td>\n",
       "      <td>0.000000</td>\n",
       "    </tr>\n",
       "    <tr>\n",
       "      <th>1</th>\n",
       "      <td>0.202020</td>\n",
       "      <td>0.040812</td>\n",
       "    </tr>\n",
       "    <tr>\n",
       "      <th>2</th>\n",
       "      <td>0.404040</td>\n",
       "      <td>0.163249</td>\n",
       "    </tr>\n",
       "    <tr>\n",
       "      <th>3</th>\n",
       "      <td>0.606061</td>\n",
       "      <td>0.367309</td>\n",
       "    </tr>\n",
       "    <tr>\n",
       "      <th>4</th>\n",
       "      <td>0.808081</td>\n",
       "      <td>0.652995</td>\n",
       "    </tr>\n",
       "    <tr>\n",
       "      <th>...</th>\n",
       "      <td>...</td>\n",
       "      <td>...</td>\n",
       "    </tr>\n",
       "    <tr>\n",
       "      <th>95</th>\n",
       "      <td>19.191919</td>\n",
       "      <td>368.329762</td>\n",
       "    </tr>\n",
       "    <tr>\n",
       "      <th>96</th>\n",
       "      <td>19.393939</td>\n",
       "      <td>376.124885</td>\n",
       "    </tr>\n",
       "    <tr>\n",
       "      <th>97</th>\n",
       "      <td>19.595960</td>\n",
       "      <td>384.001632</td>\n",
       "    </tr>\n",
       "    <tr>\n",
       "      <th>98</th>\n",
       "      <td>19.797980</td>\n",
       "      <td>391.960004</td>\n",
       "    </tr>\n",
       "    <tr>\n",
       "      <th>99</th>\n",
       "      <td>20.000000</td>\n",
       "      <td>400.000000</td>\n",
       "    </tr>\n",
       "  </tbody>\n",
       "</table>\n",
       "<p>100 rows × 2 columns</p>\n",
       "</div>"
      ],
      "text/plain": [
       "       number  numsquared\n",
       "0    0.000000    0.000000\n",
       "1    0.202020    0.040812\n",
       "2    0.404040    0.163249\n",
       "3    0.606061    0.367309\n",
       "4    0.808081    0.652995\n",
       "..        ...         ...\n",
       "95  19.191919  368.329762\n",
       "96  19.393939  376.124885\n",
       "97  19.595960  384.001632\n",
       "98  19.797980  391.960004\n",
       "99  20.000000  400.000000\n",
       "\n",
       "[100 rows x 2 columns]"
      ]
     },
     "execution_count": 13,
     "metadata": {},
     "output_type": "execute_result"
    }
   ],
   "source": [
    "df_square = pd.DataFrame(data)\n",
    "df_square"
   ]
  },
  {
   "cell_type": "code",
   "execution_count": 16,
   "id": "2c5fc1b4-2a84-4b33-be9d-e63a30f90573",
   "metadata": {
    "tags": []
   },
   "outputs": [
    {
     "data": {
      "image/png": "[encoded data removed]",
      "text/plain": [
       "<Figure size 640x480 with 1 Axes>"
      ]
     },
     "metadata": {},
     "output_type": "display_data"
    }
   ],
   "source": [
    "df_square.plot(x = \"number\",y=\"numsquared\", title=\"plot of x squared\", xlabel=\"x\", ylabel=\"x^2\");"
   ]
  },
  {
   "cell_type": "code",
   "execution_count": null,
   "id": "e1b10ae6-553d-4bb6-b981-87ab72d3aebf",
   "metadata": {},
   "outputs": [],
   "source": []
  }
 ],
 "metadata": {
  "kernelspec": {
   "display_name": "Python 3 (ipykernel)",
   "language": "python",
   "name": "python3"
  },
  "language_info": {
   "codemirror_mode": {
    "name": "ipython",
    "version": 3
   },
   "file_extension": ".py",
   "mimetype": "text/x-python",
   "name": "python",
   "nbconvert_exporter": "python",
   "pygments_lexer": "ipython3",
   "version": "3.11.5"
  }
 },
 "nbformat": 4,
 "nbformat_minor": 5
}

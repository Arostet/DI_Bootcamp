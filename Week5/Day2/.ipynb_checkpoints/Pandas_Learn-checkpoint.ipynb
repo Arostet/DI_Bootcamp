{
 "cells": [
  {
   "cell_type": "code",
   "execution_count": 1,
   "id": "00b3c564",
   "metadata": {},
   "outputs": [],
   "source": [
    "import numpy as np"
   ]
  },
  {
   "cell_type": "code",
   "execution_count": 2,
   "id": "c5118bc7",
   "metadata": {},
   "outputs": [],
   "source": [
    "import pandas as pd"
   ]
  },
  {
   "cell_type": "code",
   "execution_count": 5,
   "id": "d9036f07",
   "metadata": {},
   "outputs": [],
   "source": [
    "sales = [0, 5, 155,0, 518, 9, 1827, 616, 317, 325]\n",
    "sales_series = pd.Series(sales, name=\"Sales\")"
   ]
  },
  {
   "cell_type": "code",
   "execution_count": 6,
   "id": "89e6478f",
   "metadata": {},
   "outputs": [
    {
     "data": {
      "text/plain": [
       "0       0\n",
       "1       5\n",
       "2     155\n",
       "3       0\n",
       "4     518\n",
       "5       9\n",
       "6    1827\n",
       "7     616\n",
       "8     317\n",
       "9     325\n",
       "Name: Sales, dtype: int64"
      ]
     },
     "execution_count": 6,
     "metadata": {},
     "output_type": "execute_result"
    }
   ],
   "source": [
    "sales_series"
   ]
  },
  {
   "cell_type": "code",
   "execution_count": 7,
   "id": "242f4c2f",
   "metadata": {},
   "outputs": [
    {
     "data": {
      "text/plain": [
       "array([   0,    5,  155,    0,  518,    9, 1827,  616,  317,  325])"
      ]
     },
     "execution_count": 7,
     "metadata": {},
     "output_type": "execute_result"
    }
   ],
   "source": [
    "sales_series.values"
   ]
  },
  {
   "cell_type": "code",
   "execution_count": 8,
   "id": "62f2e2eb",
   "metadata": {},
   "outputs": [
    {
     "data": {
      "text/plain": [
       "RangeIndex(start=0, stop=10, step=1)"
      ]
     },
     "execution_count": 8,
     "metadata": {},
     "output_type": "execute_result"
    }
   ],
   "source": [
    "sales_series.index"
   ]
  },
  {
   "cell_type": "code",
   "execution_count": 9,
   "id": "7121838c",
   "metadata": {},
   "outputs": [
    {
     "data": {
      "text/plain": [
       "'Sales'"
      ]
     },
     "execution_count": 9,
     "metadata": {},
     "output_type": "execute_result"
    }
   ],
   "source": [
    "sales_series.name"
   ]
  },
  {
   "cell_type": "code",
   "execution_count": 10,
   "id": "c5be78ab",
   "metadata": {},
   "outputs": [
    {
     "data": {
      "text/plain": [
       "dtype('int64')"
      ]
     },
     "execution_count": 10,
     "metadata": {},
     "output_type": "execute_result"
    }
   ],
   "source": [
    "sales_series.dtype"
   ]
  },
  {
   "cell_type": "code",
   "execution_count": 11,
   "id": "c5310abc",
   "metadata": {},
   "outputs": [
    {
     "data": {
      "text/plain": [
       "0    False\n",
       "1     True\n",
       "2     True\n",
       "3    False\n",
       "4     True\n",
       "5     True\n",
       "6     True\n",
       "7     True\n",
       "8     True\n",
       "9     True\n",
       "Name: Sales, dtype: bool"
      ]
     },
     "execution_count": 11,
     "metadata": {},
     "output_type": "execute_result"
    }
   ],
   "source": [
    "sales_series.astype(\"bool\")"
   ]
  },
  {
   "cell_type": "code",
   "execution_count": 12,
   "id": "c64e91a0",
   "metadata": {},
   "outputs": [
    {
     "data": {
      "text/plain": [
       "0       0.0\n",
       "1       5.0\n",
       "2     155.0\n",
       "3       0.0\n",
       "4     518.0\n",
       "5       9.0\n",
       "6    1827.0\n",
       "7     616.0\n",
       "8     317.0\n",
       "9     325.0\n",
       "Name: Sales, dtype: float64"
      ]
     },
     "execution_count": 12,
     "metadata": {},
     "output_type": "execute_result"
    }
   ],
   "source": [
    "sales_series.astype(\"float\")"
   ]
  },
  {
   "cell_type": "code",
   "execution_count": 13,
   "id": "df10c0ff",
   "metadata": {},
   "outputs": [
    {
     "data": {
      "text/plain": [
       "array([52.22, 51.44, 51.98, 52.01, 52.82, 54.01, 53.8 , 53.75, 52.36,\n",
       "       53.26, 53.77, 53.98, 51.95, 50.82, 52.19, 53.01, 52.36, 52.45,\n",
       "       51.12, 51.39, 52.33, 52.77, 52.38, 52.14, 53.24, 53.18, 52.63,\n",
       "       52.75, 53.9 , 53.55, 53.81, 53.01, 52.19, 52.37, 52.99, 53.84,\n",
       "       52.96, 53.21, 53.11, 53.41, 53.41, 54.02, 53.61, 54.48, 53.99,\n",
       "       54.04, 54.  , 53.82, 52.63, 53.33, 53.19, 52.68, 49.83, 48.75,\n",
       "       48.05, 47.95, 47.24, 48.34, 48.3 , 48.34, 47.79, 47.02, 47.29,\n",
       "       47.  , 47.3 , 47.02, 48.36, 49.47, 50.3 , 50.54, 50.25, 50.99,\n",
       "       51.14, 51.69, 52.25, 53.06, 53.38, 53.12, 53.19, 52.62, 52.46,\n",
       "       50.49, 50.26, 49.64, 48.9 , 49.22, 49.22, 48.96, 49.31, 48.83,\n",
       "       47.65, 47.79, 45.55, 46.23, 46.46, 45.84, 47.28, 47.81, 47.83,\n",
       "       48.86])"
      ]
     },
     "execution_count": 13,
     "metadata": {},
     "output_type": "execute_result"
    }
   ],
   "source": [
    "oil = pd.read_csv(\"./oil.csv\").dropna()\n",
    "oil_array = np.array(oil[\"dcoilwtico\"].iloc[1000:1100])\n",
    "oil_array"
   ]
  },
  {
   "cell_type": "code",
   "execution_count": 14,
   "id": "21b00eed",
   "metadata": {},
   "outputs": [
    {
     "data": {
      "text/plain": [
       "0     52.22\n",
       "1     51.44\n",
       "2     51.98\n",
       "3     52.01\n",
       "4     52.82\n",
       "      ...  \n",
       "95    45.84\n",
       "96    47.28\n",
       "97    47.81\n",
       "98    47.83\n",
       "99    48.86\n",
       "Name: oil_prices, Length: 100, dtype: float64"
      ]
     },
     "execution_count": 14,
     "metadata": {},
     "output_type": "execute_result"
    }
   ],
   "source": [
    "oil_series = pd.Series(oil_array, name=\"oil_prices\")\n",
    "oil_series"
   ]
  },
  {
   "cell_type": "code",
   "execution_count": 15,
   "id": "9adcf6ba",
   "metadata": {},
   "outputs": [
    {
     "data": {
      "text/plain": [
       "51.128299999999996"
      ]
     },
     "execution_count": 15,
     "metadata": {},
     "output_type": "execute_result"
    }
   ],
   "source": [
    "oil_series.mean()"
   ]
  },
  {
   "cell_type": "code",
   "execution_count": 17,
   "id": "60044951",
   "metadata": {},
   "outputs": [
    {
     "data": {
      "text/plain": [
       "50.66"
      ]
     },
     "execution_count": 17,
     "metadata": {},
     "output_type": "execute_result"
    }
   ],
   "source": [
    "oil_series.astype(\"int\").values.mean()"
   ]
  },
  {
   "cell_type": "code",
   "execution_count": 18,
   "id": "2f1aef59",
   "metadata": {},
   "outputs": [
    {
     "data": {
      "text/plain": [
       "0       0\n",
       "1       5\n",
       "2     155\n",
       "3       0\n",
       "4     518\n",
       "5       9\n",
       "6    1827\n",
       "7     616\n",
       "8     317\n",
       "9     325\n",
       "Name: Sales, dtype: int64"
      ]
     },
     "execution_count": 18,
     "metadata": {},
     "output_type": "execute_result"
    }
   ],
   "source": [
    "sales_series"
   ]
  },
  {
   "cell_type": "code",
   "execution_count": 21,
   "id": "b9a10b57",
   "metadata": {},
   "outputs": [
    {
     "data": {
      "text/plain": [
       "224.33333333333334"
      ]
     },
     "execution_count": 21,
     "metadata": {},
     "output_type": "execute_result"
    }
   ],
   "source": [
    "sales_series[2:5].mean()"
   ]
  },
  {
   "cell_type": "code",
   "execution_count": 34,
   "id": "4b8d06e2",
   "metadata": {},
   "outputs": [
    {
     "data": {
      "text/plain": [
       "coffee       0\n",
       "bananas      5\n",
       "tea        155\n",
       "coconut      0\n",
       "sugar      518\n",
       "Name: Sales, dtype: int64"
      ]
     },
     "execution_count": 34,
     "metadata": {},
     "output_type": "execute_result"
    }
   ],
   "source": [
    "items = [\"coffee\", \"bananas\", \"tea\",\"coconut\", \"sugar\"]\n",
    "sales_items = sales_series[:5]\n",
    "sales_items.index=items\n",
    "sales_items"
   ]
  },
  {
   "cell_type": "code",
   "execution_count": 31,
   "id": "565c22a0",
   "metadata": {},
   "outputs": [],
   "source": [
    "# pd_sales = pd.Series(sales_items, index=items, name=\"Sales_Item\")\n",
    "# pd_sales"
   ]
  },
  {
   "cell_type": "code",
   "execution_count": 35,
   "id": "a9f21356",
   "metadata": {},
   "outputs": [
    {
     "data": {
      "text/plain": [
       "155"
      ]
     },
     "execution_count": 35,
     "metadata": {},
     "output_type": "execute_result"
    }
   ],
   "source": [
    "sales_items[\"tea\"]"
   ]
  },
  {
   "cell_type": "code",
   "execution_count": 37,
   "id": "77ba6704",
   "metadata": {},
   "outputs": [
    {
     "data": {
      "text/plain": [
       "bananas      5\n",
       "tea        155\n",
       "coconut      0\n",
       "Name: Sales, dtype: int64"
      ]
     },
     "execution_count": 37,
     "metadata": {},
     "output_type": "execute_result"
    }
   ],
   "source": [
    "sales_items[\"bananas\":\"coconut\"]"
   ]
  },
  {
   "cell_type": "code",
   "execution_count": 38,
   "id": "51bbf43a",
   "metadata": {},
   "outputs": [
    {
     "data": {
      "text/plain": [
       "155"
      ]
     },
     "execution_count": 38,
     "metadata": {},
     "output_type": "execute_result"
    }
   ],
   "source": [
    "sales_items[2]"
   ]
  },
  {
   "cell_type": "code",
   "execution_count": 40,
   "id": "dc8b02cf",
   "metadata": {},
   "outputs": [],
   "source": [
    "#loc v iloc"
   ]
  },
  {
   "cell_type": "code",
   "execution_count": 41,
   "id": "197884e7",
   "metadata": {},
   "outputs": [
    {
     "data": {
      "text/plain": [
       "coffee       0\n",
       "coffee       5\n",
       "tea        155\n",
       "coconut      0\n",
       "sugar      518\n",
       "Name: Sales, dtype: int64"
      ]
     },
     "execution_count": 41,
     "metadata": {},
     "output_type": "execute_result"
    }
   ],
   "source": [
    "items = [\"coffee\", \"coffee\", \"tea\",\"coconut\", \"sugar\"]\n",
    "sales_items.index = items\n",
    "sales_items"
   ]
  },
  {
   "cell_type": "code",
   "execution_count": 42,
   "id": "5eb3f85b",
   "metadata": {},
   "outputs": [
    {
     "data": {
      "text/plain": [
       "coffee    0\n",
       "coffee    5\n",
       "Name: Sales, dtype: int64"
      ]
     },
     "execution_count": 42,
     "metadata": {},
     "output_type": "execute_result"
    }
   ],
   "source": [
    "sales_items[\"coffee\"]"
   ]
  },
  {
   "cell_type": "code",
   "execution_count": null,
   "id": "e8ea9ba9",
   "metadata": {},
   "outputs": [],
   "source": []
  }
 ],
 "metadata": {
  "kernelspec": {
   "display_name": "Python 3 (ipykernel)",
   "language": "python",
   "name": "python3"
  },
  "language_info": {
   "codemirror_mode": {
    "name": "ipython",
    "version": 3
   },
   "file_extension": ".py",
   "mimetype": "text/x-python",
   "name": "python",
   "nbconvert_exporter": "python",
   "pygments_lexer": "ipython3",
   "version": "3.11.5"
  }
 },
 "nbformat": 4,
 "nbformat_minor": 5
}
